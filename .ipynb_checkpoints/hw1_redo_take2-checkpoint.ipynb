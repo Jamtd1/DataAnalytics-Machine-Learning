{
 "cells": [
  {
   "cell_type": "code",
   "execution_count": null,
   "id": "8da1a4da",
   "metadata": {},
   "outputs": [],
   "source": [
    "import pandas as pd\n",
    "import numpy as np\n",
    "import matplotlib.pyplot as plt\n",
    "import matplotlib.patches as mpatches\n",
    "import seaborn as sns\n",
    "from matplotlib.backends.backend_pdf import PdfPages\n",
    "\n",
    "from datetime import datetime as dt\n",
    "\n",
    "pd.set_option(\"display.max_rows\", None, \"display.max_columns\", None)"
   ]
  },
  {
   "cell_type": "code",
   "execution_count": null,
   "id": "374c3732",
   "metadata": {},
   "outputs": [],
   "source": [
    "# create the dataframe with the data in covid_cdc_20205264.csv\n",
    "df = pd.read_csv('covid19-cdc-20205264.csv', keep_default_na=True, sep=',\\s+', delimiter=',', skipinitialspace=True)"
   ]
  },
  {
   "cell_type": "code",
   "execution_count": null,
   "id": "5493511b",
   "metadata": {},
   "outputs": [],
   "source": [
    "df.shape"
   ]
  },
  {
   "cell_type": "code",
   "execution_count": null,
   "id": "101738ae",
   "metadata": {},
   "outputs": [],
   "source": [
    "df.head()"
   ]
  },
  {
   "cell_type": "code",
   "execution_count": null,
   "id": "8e2141c8",
   "metadata": {},
   "outputs": [],
   "source": [
    "df.tail()"
   ]
  },
  {
   "cell_type": "code",
   "execution_count": null,
   "id": "c3f3110f",
   "metadata": {},
   "outputs": [],
   "source": [
    "df.dtypes"
   ]
  },
  {
   "cell_type": "code",
   "execution_count": null,
   "id": "84152742",
   "metadata": {},
   "outputs": [],
   "source": [
    "categorical_columns = df[['current_status', 'sex', 'age_group', 'race_ethnicity_combined', 'hosp_yn', 'icu_yn', 'death_yn', 'medcond_yn']].columns\n",
    "\n",
    "for column in categorical_columns:\n",
    "    df[column] = df[column].astype('category')"
   ]
  },
  {
   "cell_type": "code",
   "execution_count": null,
   "id": "6eaa2b46",
   "metadata": {},
   "outputs": [],
   "source": [
    "continuous_columns = df.select_dtypes(['object']).columns\n",
    "\n",
    "for column in continuous_columns:\n",
    "    df[column] = pd.to_datetime(df[column])"
   ]
  },
  {
   "cell_type": "code",
   "execution_count": null,
   "id": "7da596cd",
   "metadata": {},
   "outputs": [],
   "source": [
    "print(df.dtypes)"
   ]
  },
  {
   "cell_type": "code",
   "execution_count": null,
   "id": "0d484651",
   "metadata": {},
   "outputs": [],
   "source": [
    "continuous_columns"
   ]
  },
  {
   "cell_type": "code",
   "execution_count": null,
   "id": "ba4d542d",
   "metadata": {},
   "outputs": [],
   "source": [
    "categorical_columns"
   ]
  },
  {
   "cell_type": "code",
   "execution_count": null,
   "id": "b3cbcdf0",
   "metadata": {},
   "outputs": [],
   "source": [
    "# the first method, df.duplicated() assumes keep=First\n",
    "print('Number of duplicate rows, excluding the first rows, in the table: ', df.duplicated().sum())\n",
    "\n",
    "# the second method, not df.duplicated(keep=False)\n",
    "print('Number of duplicaet rows, including the first rows, in the table: ', df.duplicated(keep=False).sum())"
   ]
  },
  {
   "cell_type": "code",
   "execution_count": null,
   "id": "6ec26ca1",
   "metadata": {},
   "outputs": [],
   "source": [
    "df[df.duplicated(keep=False)]"
   ]
  },
  {
   "cell_type": "code",
   "execution_count": null,
   "id": "ba4f92c3",
   "metadata": {},
   "outputs": [],
   "source": [
    "df[df.duplicated()]"
   ]
  },
  {
   "cell_type": "code",
   "execution_count": null,
   "id": "c1b661af",
   "metadata": {},
   "outputs": [],
   "source": [
    "df.select_dtypes(['category']).describe().T"
   ]
  },
  {
   "cell_type": "code",
   "execution_count": null,
   "id": "cb978844",
   "metadata": {},
   "outputs": [],
   "source": [
    "df.select_dtypes(include=['datetime64']).describe(datetime_is_numeric=True).T"
   ]
  },
  {
   "cell_type": "code",
   "execution_count": null,
   "id": "d3469554",
   "metadata": {},
   "outputs": [],
   "source": [
    "dfNaN = df.copy(deep=True)"
   ]
  },
  {
   "cell_type": "code",
   "execution_count": null,
   "id": "aa3cbce5",
   "metadata": {},
   "outputs": [],
   "source": [
    "dfNaN.replace('Missing', np.nan, inplace=True)"
   ]
  },
  {
   "cell_type": "code",
   "execution_count": null,
   "id": "51294348",
   "metadata": {},
   "outputs": [],
   "source": [
    "dfNaN.isnull().sum()"
   ]
  },
  {
   "cell_type": "code",
   "execution_count": null,
   "id": "2c0b29e1",
   "metadata": {},
   "outputs": [],
   "source": [
    "miss_perc = {}\n",
    "for column in df:\n",
    "    temp = round(((dfNaN[column].isnull().sum() / (dfNaN.shape[0]))*100),2)\n",
    "    miss_perc[column] = temp\n",
    "\n",
    "print(miss_perc)"
   ]
  },
  {
   "cell_type": "code",
   "execution_count": null,
   "id": "6f9597c9",
   "metadata": {},
   "outputs": [],
   "source": [
    "# .value_counts() counts number of times a unique entry is entered\n",
    "df['current_status'].value_counts()"
   ]
  },
  {
   "cell_type": "code",
   "execution_count": null,
   "id": "71020f42",
   "metadata": {},
   "outputs": [],
   "source": [
    "df['sex'].value_counts()"
   ]
  },
  {
   "cell_type": "code",
   "execution_count": null,
   "id": "c1e15f5d",
   "metadata": {},
   "outputs": [],
   "source": [
    "df['age_group'].value_counts()"
   ]
  },
  {
   "cell_type": "code",
   "execution_count": null,
   "id": "d015407b",
   "metadata": {},
   "outputs": [],
   "source": [
    "df['race_ethnicity_combined'].value_counts()"
   ]
  },
  {
   "cell_type": "code",
   "execution_count": null,
   "id": "8f4b6198",
   "metadata": {},
   "outputs": [],
   "source": [
    "df['hosp_yn'].value_counts()"
   ]
  },
  {
   "cell_type": "code",
   "execution_count": null,
   "id": "e26a886f",
   "metadata": {},
   "outputs": [],
   "source": [
    "df['death_yn'].value_counts()"
   ]
  },
  {
   "cell_type": "code",
   "execution_count": null,
   "id": "3897fe41",
   "metadata": {},
   "outputs": [],
   "source": [
    "df['icu_yn'].value_counts()"
   ]
  },
  {
   "cell_type": "code",
   "execution_count": null,
   "id": "8984061f",
   "metadata": {},
   "outputs": [],
   "source": [
    "df['medcond_yn'].value_counts()"
   ]
  },
  {
   "cell_type": "code",
   "execution_count": null,
   "id": "c6de9d3d",
   "metadata": {},
   "outputs": [],
   "source": [
    "# Check how many rows contain a missing value\n",
    "row_inc_nan = df.apply(lambda x: x.isnull().any(), axis=1)\n",
    "num_rows_nan = len(row_inc_nan[row_inc_nan == True].index)\n",
    "print('Number of Rows in dataframe which contain NaN in any column:', num_rows_nan)\n",
    "\n",
    "# Deduct previous answer from the size of the dataframe to determine how many rows are \n",
    "# completely full\n",
    "num_rows_not_nan = (df.shape[0]) - num_rows_nan\n",
    "print('Number of Rows in dataframe which do not contain NaN in any column:', num_rows_not_nan)\n",
    "\n",
    "# get the percentage miss for the rows\n",
    "nan_perc = round(((num_rows_nan / (df.shape[0]))*100),2)\n",
    "print('Percentage of rows missing information: '+ str(nan_perc)+'%')"
   ]
  },
  {
   "cell_type": "markdown",
   "id": "f0728896",
   "metadata": {},
   "source": [
    "## Descriptive Statistics: Continuous Features"
   ]
  },
  {
   "cell_type": "code",
   "execution_count": null,
   "id": "44425186",
   "metadata": {},
   "outputs": [],
   "source": [
    "# Calculate the range of the continuous features and show the number of times\n",
    "# each entry is entered\n",
    "\n",
    "for column in continuous_columns:\n",
    "    print(column)\n",
    "    print(\"-------------\\n\")\n",
    "    print(\"Range {} is: \".format(column), (df[column].max() - df[column].min()))\n",
    "    print(\"-------------\")\n",
    "    print(df[column].value_counts(), \"\\n\\n\\n\")"
   ]
  },
  {
   "cell_type": "code",
   "execution_count": null,
   "id": "7796ada6",
   "metadata": {},
   "outputs": [],
   "source": [
    "#get the cardinality for the continuous features\n",
    "features_cardinality = list(df[continuous_columns].columns.values)\n",
    "\n",
    "print('{0:35}   {1}'.format(\"Feature\", \"Cardinality\"))\n",
    "print('{0:35}   {1}'.format(\"-------\", \"-----------\"))\n",
    "\n",
    "for c in features_cardinality:\n",
    "    print('{0:35}   {1}'.format(c, str(len(df[c].unique()))))"
   ]
  },
  {
   "cell_type": "markdown",
   "id": "65eea329",
   "metadata": {},
   "source": [
    "## Check Logical Integrity of Data"
   ]
  },
  {
   "cell_type": "code",
   "execution_count": null,
   "id": "d5ad9b42",
   "metadata": {},
   "outputs": [],
   "source": [
    "# cdc_report_dt is earlier than cdc_case_earliest_dt\n",
    "test_1a = df[['cdc_case_earliest_dt', 'cdc_report_dt', 'onset_dt']][df['cdc_report_dt']<df['cdc_case_earliest_dt']]\n",
    "print(\"Number of rows cdc_report_dt is earlier than cdc_case_earliest_dt:\", test_1a.shape[0])\n",
    "\n",
    "# onset is earlier than cdc_case_earliest_dt\n",
    "test_1d = df[['cdc_case_earliest_dt', 'cdc_report_dt', 'onset_dt']][df['onset_dt']<df['cdc_case_earliest_dt']]\n",
    "print(\"Number of rows onset is earlier than cdc_case_earliest_dt:\", test_1d.shape[0])\n",
    "\n",
    "# pos_spec_dt is earlier than cdc_case_earliest_dt\n",
    "test_1i = df[['pos_spec_dt', 'cdc_case_earliest_dt']][df['pos_spec_dt']<df['cdc_case_earliest_dt']]\n",
    "print(\"Number of rows pos_spec_dt is earlier than cdc_case_earliest_dt:\", test_1i.shape[0])\n",
    "\n",
    "# pos_spec_dt is earlier than onset_dt\n",
    "test_1h = df[['pos_spec_dt', 'onset_dt']][df['pos_spec_dt']<df['onset_dt']]\n",
    "print(\"Number of rows pos_spec_dt is earlier than onset_dt:\", test_1h.shape[0])\n",
    "\n",
    "# cdc_report_dt is later than onset_dt\n",
    "test_1f = df[['cdc_case_earliest_dt', 'cdc_report_dt', 'onset_dt']][df['cdc_report_dt']>df['onset_dt']]\n",
    "print(\"Number of rows cdc_report_dt is later than onset_dt:\", test_1f.shape[0])\n",
    "\n",
    "# cdc_report_dt is earlier than onset_dt\n",
    "test_1g = df[['cdc_case_earliest_dt', 'cdc_report_dt', 'onset_dt']][df['cdc_report_dt']<df['onset_dt']]\n",
    "print(\"Number of rows cdc_report_dt is earlier than onset_dt:\", test_1g.shape[0])"
   ]
  },
  {
   "cell_type": "code",
   "execution_count": null,
   "id": "b1731f7d",
   "metadata": {
    "scrolled": true
   },
   "outputs": [],
   "source": [
    "# Return a list of indexs where icu is yes\n",
    "hosp_unk_icuy = df.apply(lambda x: True if (x['icu_yn'] == 'Yes') else False, axis=1)\n",
    "hosp_unk_icuy = hosp_unk_icuy.index[hosp_unk_icuy]\n",
    "\n",
    "hosp_unk_icuy_df = df[['hosp_yn','icu_yn']].iloc[hosp_unk_icuy]      "
   ]
  },
  {
   "cell_type": "code",
   "execution_count": null,
   "id": "8fa48e41",
   "metadata": {},
   "outputs": [],
   "source": [
    "# compare icu yes with hosp unknown\n",
    "hosp_unk_icuy_df[['hosp_yn']].value_counts()"
   ]
  },
  {
   "cell_type": "code",
   "execution_count": null,
   "id": "1af6b514",
   "metadata": {
    "scrolled": true
   },
   "outputs": [],
   "source": [
    "# Return a list of indexs where hosp is No\n",
    "hospn_icuu = df.apply(lambda x: True if (x['hosp_yn'] == 'No') else False, axis=1)\n",
    "hospn_icuu = hospn_icuu.index[hospn_icuu]\n",
    "\n",
    "hospn_icuu_df = df[['hosp_yn','icu_yn']].iloc[hospn_icuu]      "
   ]
  },
  {
   "cell_type": "code",
   "execution_count": null,
   "id": "92c25c24",
   "metadata": {},
   "outputs": [],
   "source": [
    "# compare hosp no and icu unknown\n",
    "hospn_icuu_df[['icu_yn']].value_counts()"
   ]
  },
  {
   "cell_type": "code",
   "execution_count": null,
   "id": "0543972f",
   "metadata": {},
   "outputs": [],
   "source": []
  },
  {
   "cell_type": "code",
   "execution_count": null,
   "id": "b268fe02",
   "metadata": {},
   "outputs": [],
   "source": []
  },
  {
   "cell_type": "markdown",
   "id": "272f2cfe",
   "metadata": {},
   "source": [
    "## Prepare a table with descriptive statistics for all continuous and categorical features\n"
   ]
  },
  {
   "cell_type": "code",
   "execution_count": null,
   "id": "46e08256",
   "metadata": {},
   "outputs": [],
   "source": [
    "# Select the continuous features and use describe() to create the statistics for the features\n",
    "df.select_dtypes(include=['datetime64']).describe(datetime_is_numeric=True).T"
   ]
  },
  {
   "cell_type": "code",
   "execution_count": null,
   "id": "ffbb9c3b",
   "metadata": {},
   "outputs": [],
   "source": [
    "# Use the .describe() method to create a statistics table for the categorical features\n",
    "df[categorical_columns].describe().T"
   ]
  },
  {
   "cell_type": "markdown",
   "id": "bec93fe6",
   "metadata": {},
   "source": [
    "#### Plot histograms summary sheet for all the continuous features"
   ]
  },
  {
   "cell_type": "code",
   "execution_count": null,
   "id": "4f850b68",
   "metadata": {},
   "outputs": [],
   "source": [
    "# create larger versions of the histograms\n",
    "pp = PdfPages('20205264_continuouse_features_histograms.pdf')\n",
    "for columns in continuous_columns:\n",
    "    fig = df[continuous_columns].hist(column=columns, figsize=(12,10), bins=100)\n",
    "    plt.title(columns)\n",
    "    plt.ylabel('Number of Instances')\n",
    "    plt.xlabel('Dates - yyyy-mm')\n",
    "    pp.savefig()\n",
    "    plt.show\n",
    "pp.close()"
   ]
  },
  {
   "cell_type": "code",
   "execution_count": null,
   "id": "fd7401d1",
   "metadata": {},
   "outputs": [],
   "source": [
    "pp = PdfPages('20205264_categorical_features_barplots.pdf')\n",
    "for col in categorical_columns:\n",
    "    f = df[col].value_counts().plot(kind='bar', figsize=(12,10))\n",
    "    print(type(f))\n",
    "    plt.title(col)\n",
    "    plt.ylabel('number of patients')\n",
    "    pp.savefig(f.get_figure())\n",
    "    plt.show()\n",
    "pp.close()"
   ]
  },
  {
   "cell_type": "markdown",
   "id": "78572e85",
   "metadata": {},
   "source": [
    "# 2. Data Understanding: Data Quality Plan for the cleaned CSV file"
   ]
  },
  {
   "cell_type": "markdown",
   "id": "15248327",
   "metadata": {},
   "source": [
    "# removing columns\n",
    "\n",
    "Feature        |\tFeature Type       |\tData Quality Issue      |   Handling Strategy\n",
    "\n",
    "**cdc_case_earliest_dt**  \n",
    "datetime64[ns]  \n",
    "Some dates later than cdc_report_dt dates (20 rows). Some dates later than pos_spec_dt (80 rows).  \n",
    "Examine rows for general integrity and adjust cdc_case_earliest_dt if needed (eg when cdc_case_earliest_dt > cdc_report_dt). Use information from integrity tests to do imputation on cdc_case_earliest_dt where values are wrong. \n",
    "\n",
    "**cdc_report_dt**  \n",
    "datetime64[ns]  \n",
    "Missing values (20%).  \n",
    "Use for comparison in integrity checks and then drop as depreciated according to CDC guidelines.  \n",
    "\n",
    "**pos_spec_dt**  \n",
    "datetime64[ns]  \n",
    "Missing values (70%).  \n",
    "Drop after checking against other columns for logical integrity and whether any useful information can be extracted.  \n",
    "\n",
    "**onset_dt**  \n",
    "datetime64[ns]  \n",
    "Some dates later than pos_spec_dt (75 rows).  \n",
    "Missing values (45%).\tExamine rows for general integrity (eg when compared to pos_spec_dt); if onset_dt > pos_spec_dt, assume to be close contact or health worker presenting symptoms only after testing positive, or asymptomatic. Check how it is related to the target class. \n",
    "If not useful re target class, drop it, otherwise consider creating an indicator feature first (eg derive a missing value indicator), and then drop it.  \n",
    "\n",
    "**current_status**  \n",
    "category  \n",
    "None  \n",
    "Do nothing.  \n",
    "\n",
    "**sex**  \n",
    "category  \n",
    "Missing(0.1%) and unknown (0.5%) values.  \n",
    "Since very few rows affected, drop rows with missing values after checking against other columns for logical integrity and whether any useful information can be extracted (eg how it is related to the target class.).  \n",
    "\n",
    "**age_group**  \n",
    "category  \n",
    "Missing values (0.1%).  \n",
    "Since very few rows affected, drop rows with missing values after checking against other columns for logical integrity and whether any useful information can be extracted.  \n",
    "\n",
    "**race_ethnicity_combined**  \n",
    "category  \n",
    "Missing (0.8%) and Unknown (40.2%) values  \n",
    "Combine into single Unknown value and keep.  \n",
    "\n",
    "**hosp_yn**  \n",
    "category  \n",
    "Missing (21%) and Unknown(15.2%) values  \n",
    "Combine into single Unknown value and keep.  \n",
    "\n",
    "**icu_yn**  \n",
    "category  \n",
    "Missing(76.45%) and Unknown (13.33%) values  \n",
    "Infer values from hosp_yn where possible, combine into single Unknown value and keep.  \n",
    "\n",
    "**medcond_yn**  \n",
    "category  \n",
    "Missing (74.99%) and Unknown (7.78%) values  \n",
    "Combine into single Unknown value and keep.  \n",
    "\n",
    "**death_yn**  \n",
    "category  \n",
    "None  \n",
    "Do nothing. Note: imbalanced classes (97% No and 3% Yes).  \n",
    "\n",
    "All null values in all features should be addressed, either through imputation (where it makes sense), dropping (if only few rows), or replacing missing data with Unknown value."
   ]
  },
  {
   "cell_type": "code",
   "execution_count": null,
   "id": "77024b1a",
   "metadata": {},
   "outputs": [],
   "source": [
    "#Create a list of indices where the values are true\n",
    "test_1a_index = df.apply(lambda x: True if (x['cdc_case_earliest_dt'] > x['cdc_report_dt']) else False, axis=1)\n",
    "test_1a_true_index = test_1a_index[test_1a_index == True].index\n",
    "print(\"Number of rows effected: \", len(test_1a_true_index))\n",
    "print(\"\\n\", test_1a_true_index)"
   ]
  },
  {
   "cell_type": "code",
   "execution_count": null,
   "id": "9efe7d02",
   "metadata": {},
   "outputs": [],
   "source": [
    "df['cdc_case_earliest_dt'] = np.where(df['cdc_case_earliest_dt'] > df['cdc_report_dt'], df['cdc_report_dt'], df['cdc_case_earliest_dt'])\n"
   ]
  },
  {
   "cell_type": "code",
   "execution_count": null,
   "id": "0ce9f3df",
   "metadata": {},
   "outputs": [],
   "source": [
    "#Create a list of indices where the values are true\n",
    "test_1a_index = df.apply(lambda x: True if (x['cdc_case_earliest_dt'] > x['cdc_report_dt']) else False, axis=1)\n",
    "test_1a_true_index = test_1a_index[test_1a_index == True].index\n",
    "print(\"Number of rows effected: \", len(test_1a_true_index))\n",
    "print(\"\\n\", test_1a_true_index)"
   ]
  },
  {
   "cell_type": "code",
   "execution_count": null,
   "id": "8cc7d5f6",
   "metadata": {},
   "outputs": [],
   "source": [
    "#Create a list of indices where the values are true\n",
    "test_PS_index = df.apply(lambda x: True if (x['cdc_case_earliest_dt'] > x['pos_spec_dt']) else False, axis=1)\n",
    "test_PS_true_index = test_PS_index[test_PS_index == True].index\n",
    "print(\"Number of rows effected: \", len(test_PS_true_index))\n",
    "print(\"\\n\", test_PS_true_index)"
   ]
  },
  {
   "cell_type": "code",
   "execution_count": null,
   "id": "7224eaba",
   "metadata": {},
   "outputs": [],
   "source": [
    "df['cdc_case_earliest_dt'] = np.where(df['cdc_case_earliest_dt'] > df['pos_spec_dt'], df['pos_spec_dt'], df['cdc_case_earliest_dt'])\n"
   ]
  },
  {
   "cell_type": "code",
   "execution_count": null,
   "id": "d3b85fee",
   "metadata": {},
   "outputs": [],
   "source": [
    "#Create a list of indices where the values are true\n",
    "test_OS_index = df.apply(lambda x: True if (x['cdc_case_earliest_dt'] > x['onset_dt']) else False, axis=1)\n",
    "test_OS_true_index = test_OS_index[test_OS_index == True].index\n",
    "print(\"Number of rows effected: \", len(test_OS_true_index))\n",
    "print(\"\\n\", test_OS_true_index)"
   ]
  },
  {
   "cell_type": "code",
   "execution_count": null,
   "id": "bde1f16d",
   "metadata": {},
   "outputs": [],
   "source": [
    "df['cdc_case_earliest_dt'] = np.where(df['cdc_case_earliest_dt'] > df['onset_dt'], df['onset_dt'], df['cdc_case_earliest_dt'])\n"
   ]
  },
  {
   "cell_type": "code",
   "execution_count": null,
   "id": "1a0eb6d5",
   "metadata": {},
   "outputs": [],
   "source": [
    "# a earlier than b = a < b\n",
    "# a later than b = a > b\n",
    "\n",
    "# cdc_report_dt is earlier than cdc_case_earliest_dt\n",
    "test_1a = df[['cdc_case_earliest_dt', 'cdc_report_dt', 'onset_dt']][df['cdc_report_dt']<df['cdc_case_earliest_dt']]\n",
    "print(\"Number of rows cdc_report_dt is earlier than cdc_case_earliest_dt:\", test_1a.shape[0])\n",
    "\n",
    "# onset is earlier than cdc_case_earliest_dt\n",
    "test_1d = df[['cdc_case_earliest_dt', 'cdc_report_dt', 'onset_dt']][df['onset_dt']<df['cdc_case_earliest_dt']]\n",
    "print(\"Number of rows onset is earlier than cdc_case_earliest_dt:\", test_1d.shape[0])\n",
    "\n",
    "# pos_spec_dt is earlier than cdc_case_earliest_dt\n",
    "test_1i = df[['pos_spec_dt', 'cdc_case_earliest_dt']][df['pos_spec_dt']<df['cdc_case_earliest_dt']]\n",
    "print(\"Number of rows pos_spec_dt is earlier than cdc_case_earliest_dt:\", test_1i.shape[0])\n"
   ]
  },
  {
   "cell_type": "code",
   "execution_count": null,
   "id": "87095c9a",
   "metadata": {},
   "outputs": [],
   "source": [
    "#Create a list of indices where the values are true\n",
    "test_OP_index = df.apply(lambda x: True if (x['onset_dt'] > x['pos_spec_dt']) else False, axis=1)\n",
    "test_OP_true_index = test_OP_index[test_OP_index == True].index\n",
    "print(\"Number of rows effected: \", len(test_OP_true_index))\n",
    "print(\"\\n\", test_OP_true_index)"
   ]
  },
  {
   "cell_type": "code",
   "execution_count": null,
   "id": "afebc3c9",
   "metadata": {},
   "outputs": [],
   "source": [
    "df['onset_dt'] = np.where(df['onset_dt'] > df['pos_spec_dt'], 1, 0)"
   ]
  },
  {
   "cell_type": "code",
   "execution_count": null,
   "id": "be8f3254",
   "metadata": {},
   "outputs": [],
   "source": [
    "df.drop(columns='cdc_report_dt', inplace = True)\n",
    "df.drop(columns='pos_spec_dt', inplace = True)\n",
    "\n",
    "continuous_columns = continuous_columns.drop('pos_spec_dt', 'cdc_report_dt')\n",
    "print(continuous_columns)"
   ]
  },
  {
   "cell_type": "code",
   "execution_count": null,
   "id": "e34bf9b5",
   "metadata": {},
   "outputs": [],
   "source": [
    "#Create a list of indices where the values are true\n",
    "sex_missing = df.apply(lambda x: True if (x['sex'] == \"Missing\") else False, axis=1)\n",
    "\n",
    "sex_missing_true_index=sex_missing[sex_missing == True].index\n",
    "print(\"Number of rows effected: \", len(sex_missing_true_index))\n",
    "print(\"\\n\", sex_missing_true_index)"
   ]
  },
  {
   "cell_type": "code",
   "execution_count": null,
   "id": "f627a0d6",
   "metadata": {},
   "outputs": [],
   "source": [
    "df['sex'].replace('Missing', 'Unknown', inplace=True)"
   ]
  },
  {
   "cell_type": "code",
   "execution_count": null,
   "id": "5296bcfd",
   "metadata": {},
   "outputs": [],
   "source": [
    "#Create a list of indices where the values are true\n",
    "age_missing = df.apply(lambda x: True if (x['age_group'] == \"Missing\") else False, axis=1)\n",
    "\n",
    "age_missing_true_index=age_missing[age_missing == True].index\n",
    "print(\"Number of rows effected: \", len(age_missing_true_index))\n",
    "print(\"\\n\", age_missing_true_index)"
   ]
  },
  {
   "cell_type": "code",
   "execution_count": null,
   "id": "a9d215c3",
   "metadata": {},
   "outputs": [],
   "source": [
    "#Create a list of indices where the values are true\n",
    "REC_missing = df.apply(lambda x: True if (x['race_ethnicity_combined'] == \"Missing\") else False, axis=1)\n",
    "\n",
    "REC_missing_true_index=REC_missing[REC_missing == True].index\n",
    "print(\"Number of rows effected: \", len(REC_missing_true_index))\n",
    "print(\"\\n\", REC_missing_true_index)"
   ]
  },
  {
   "cell_type": "code",
   "execution_count": null,
   "id": "e655d82b",
   "metadata": {},
   "outputs": [],
   "source": [
    "df['race_ethnicity_combined'].replace('Missing', 'Unknown', inplace=True)"
   ]
  },
  {
   "cell_type": "code",
   "execution_count": null,
   "id": "2f90c870",
   "metadata": {},
   "outputs": [],
   "source": [
    "#Create a list of indices where the values are true\n",
    "hosp_missing = df.apply(lambda x: True if (x['hosp_yn'] == \"Missing\") else False, axis=1)\n",
    "\n",
    "hosp_missing_true_index=hosp_missing[hosp_missing == True].index\n",
    "print(\"Number of rows effected: \", len(hosp_missing_true_index))\n",
    "print(\"\\n\", hosp_missing_true_index)"
   ]
  },
  {
   "cell_type": "code",
   "execution_count": null,
   "id": "1cd3e0ed",
   "metadata": {},
   "outputs": [],
   "source": [
    "df['hosp_yn'].replace('Missing', 'Unknown', inplace=True)"
   ]
  },
  {
   "cell_type": "code",
   "execution_count": null,
   "id": "e2ef039a",
   "metadata": {},
   "outputs": [],
   "source": [
    "df['hosp_yn'].replace('OTH', 'Unknown', inplace=True)"
   ]
  },
  {
   "cell_type": "code",
   "execution_count": null,
   "id": "be9728ae",
   "metadata": {},
   "outputs": [],
   "source": [
    "#Create a list of indices where the values are true\n",
    "hosp_oth = df.apply(lambda x: True if (x['hosp_yn'] == \"OTH\") else False, axis=1)\n",
    "\n",
    "hosp_oth_true_index=hosp_oth[hosp_oth == True].index\n",
    "print(\"Number of rows effected: \", len(hosp_oth_true_index))\n",
    "print(\"\\n\", hosp_oth_true_index)"
   ]
  },
  {
   "cell_type": "code",
   "execution_count": null,
   "id": "ac32697b",
   "metadata": {},
   "outputs": [],
   "source": [
    "hosp_unk_icuy_df['hosp_yn'].replace('Unknown', 'Yes', inplace=True)"
   ]
  },
  {
   "cell_type": "code",
   "execution_count": null,
   "id": "12ab8d68",
   "metadata": {
    "scrolled": true
   },
   "outputs": [],
   "source": [
    "# Return a list of indexs where icu is yes\n",
    "hosp_unk_icuy = df.apply(lambda x: True if (x['icu_yn'] == 'Yes') else False, axis=1)\n",
    "hosp_unk_icuy = hosp_unk_icuy.index[hosp_unk_icuy]\n",
    "\n",
    "hosp_unk_icuy_df = df[['hosp_yn','icu_yn']].iloc[hosp_unk_icuy]      "
   ]
  },
  {
   "cell_type": "code",
   "execution_count": null,
   "id": "d60a1f35",
   "metadata": {},
   "outputs": [],
   "source": [
    "# compare icu yes with hosp unknown\n",
    "hosp_unk_icuy_df[['hosp_yn']].value_counts()"
   ]
  },
  {
   "cell_type": "code",
   "execution_count": null,
   "id": "559f0d86",
   "metadata": {},
   "outputs": [],
   "source": [
    "hospn_icuu_df['icu_yn'].replace('Unknown', 'No', inplace=True)"
   ]
  },
  {
   "cell_type": "code",
   "execution_count": null,
   "id": "b1731f7d",
   "metadata": {
    "scrolled": true
   },
   "outputs": [],
   "source": [
    "# Return a list of indexs where hosp is No\n",
    "hospn_icuu = df.apply(lambda x: True if (x['hosp_yn'] == 'No') else False, axis=1)\n",
    "hospn_icuu = hospn_icuu.index[hospn_icuu]\n",
    "\n",
    "hospn_icuu_df = df[['hosp_yn','icu_yn']].iloc[hospn_icuu]      "
   ]
  },
  {
   "cell_type": "code",
   "execution_count": null,
   "id": "8fa48e41",
   "metadata": {},
   "outputs": [],
   "source": [
    "# compare hosp no and icu unknown\n",
    "hospn_icuu_df[['icu_yn']].value_counts()"
   ]
  },
  {
   "cell_type": "code",
   "execution_count": null,
   "id": "9f384a4a",
   "metadata": {},
   "outputs": [],
   "source": []
  },
  {
   "cell_type": "code",
   "execution_count": null,
   "id": "d0890dc9",
   "metadata": {},
   "outputs": [],
   "source": []
  },
  {
   "cell_type": "code",
   "execution_count": null,
   "id": "1ed83ffe",
   "metadata": {},
   "outputs": [],
   "source": []
  },
  {
   "cell_type": "code",
   "execution_count": null,
   "id": "49ae8496",
   "metadata": {},
   "outputs": [],
   "source": []
  },
  {
   "cell_type": "code",
   "execution_count": null,
   "id": "709df597",
   "metadata": {},
   "outputs": [],
   "source": []
  },
  {
   "cell_type": "code",
   "execution_count": null,
   "id": "657d2a16",
   "metadata": {},
   "outputs": [],
   "source": []
  },
  {
   "cell_type": "code",
   "execution_count": null,
   "id": "ebf15a0a",
   "metadata": {},
   "outputs": [],
   "source": []
  },
  {
   "cell_type": "code",
   "execution_count": null,
   "id": "59a422b2",
   "metadata": {},
   "outputs": [],
   "source": []
  },
  {
   "cell_type": "code",
   "execution_count": null,
   "id": "067d8132",
   "metadata": {},
   "outputs": [],
   "source": []
  },
  {
   "cell_type": "code",
   "execution_count": null,
   "id": "35cf207f",
   "metadata": {},
   "outputs": [],
   "source": []
  },
  {
   "cell_type": "code",
   "execution_count": null,
   "id": "337aa631",
   "metadata": {},
   "outputs": [],
   "source": []
  },
  {
   "cell_type": "code",
   "execution_count": null,
   "id": "ea294adb",
   "metadata": {},
   "outputs": [],
   "source": []
  },
  {
   "cell_type": "code",
   "execution_count": null,
   "id": "24b94712",
   "metadata": {},
   "outputs": [],
   "source": []
  },
  {
   "cell_type": "code",
   "execution_count": null,
   "id": "54281260",
   "metadata": {},
   "outputs": [],
   "source": []
  }
 ],
 "metadata": {
  "kernelspec": {
   "display_name": "Python 3",
   "language": "python",
   "name": "python3"
  },
  "language_info": {
   "codemirror_mode": {
    "name": "ipython",
    "version": 3
   },
   "file_extension": ".py",
   "mimetype": "text/x-python",
   "name": "python",
   "nbconvert_exporter": "python",
   "pygments_lexer": "ipython3",
   "version": "3.8.8"
  }
 },
 "nbformat": 4,
 "nbformat_minor": 5
}
